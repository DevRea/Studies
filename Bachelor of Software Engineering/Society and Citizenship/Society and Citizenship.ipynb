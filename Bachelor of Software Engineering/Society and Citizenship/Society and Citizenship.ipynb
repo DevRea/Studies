{
 "cells": [
  {
   "attachments": {},
   "cell_type": "markdown",
   "metadata": {},
   "source": [
    "<link rel=\"stylesheet\" href=\"../../Jupyter Style/style.css\">\n",
    "\n",
    "# <h1 id=\"center\" class=\"white-neon\" style=\"font-weight:700\">Society and Citizenship</h1>"
   ]
  },
  {
   "attachments": {},
   "cell_type": "markdown",
   "metadata": {},
   "source": [
    "<div class=\"animated-border\">\n",
    "    <img src=\"../../Images/Mime and Dash Ilustrations/Gifs/Mime and Dash money.gif\" alt=\"descrição do gif\" width=\"900\" style=\"display: block; margin-left: auto; margin-right: auto; border-radius:20px\">\n",
    "</div>"
   ]
  },
  {
   "attachments": {},
   "cell_type": "markdown",
   "metadata": {},
   "source": [
    "<link rel=\"stylesheet\" href=\"../../Jupyter Style/style.css\">\n",
    "\n",
    "## <h2 id=\"center\" class=\"white-neon\">The purpose of this content</h2>"
   ]
  },
  {
   "attachments": {},
   "cell_type": "markdown",
   "metadata": {},
   "source": [
    "<link rel=\"stylesheet\" href=\"../../Jupyter Style/style.css\">\n",
    "\n",
    "<p>This content is about Brazil and has objectives and purpose, below you can see some:</p>"
   ]
  },
  {
   "attachments": {},
   "cell_type": "markdown",
   "metadata": {},
   "source": [
    "<link rel=\"stylesheet\" href=\"../../Jupyter Style/style.css\">\n",
    "\n",
    "### <h3 class=\"red-neon\">1st Objective</h3>"
   ]
  },
  {
   "attachments": {},
   "cell_type": "markdown",
   "metadata": {},
   "source": [
    "<link rel=\"stylesheet\" href=\"../../Jupyter Style/style.css\">\n",
    "<p class=\"branco-neon\">Define human performance in the face of ethics in society</p>"
   ]
  },
  {
   "attachments": {},
   "cell_type": "markdown",
   "metadata": {},
   "source": [
    "<link rel=\"stylesheet\" href=\"../../Jupyter Style/style.css\">\n",
    "\n",
    "### <h3 class=\"red-neon\">2st Objective</h3>"
   ]
  },
  {
   "attachments": {},
   "cell_type": "markdown",
   "metadata": {},
   "source": [
    "<link rel=\"stylesheet\" href=\"../../Jupyter Style/style.css\">\n",
    "<p class=\"white-neon\">Identify the dimensions of the meaning of citizenship</p>"
   ]
  },
  {
   "attachments": {},
   "cell_type": "markdown",
   "metadata": {},
   "source": [
    "<link rel=\"stylesheet\" href=\"../../Jupyter Style/style.css\">\n",
    "\n",
    "### <h3 class=\"red-neon\">3st Objective</h3>"
   ]
  },
  {
   "attachments": {},
   "cell_type": "markdown",
   "metadata": {},
   "source": [
    "<link rel=\"stylesheet\" href=\"../../Jupyter Style/style.css\">\n",
    "<p class=\"white-neon\">Ilustrate the facts that characteriza the social inequalities in today's world"
   ]
  },
  {
   "attachments": {},
   "cell_type": "markdown",
   "metadata": {},
   "source": [
    "<link rel=\"stylesheet\" href=\"../../Jupyter Style/style.css\">\n",
    "\n",
    "### <h3 class=\"red-neon\">4st Objective</h3>"
   ]
  },
  {
   "attachments": {},
   "cell_type": "markdown",
   "metadata": {},
   "source": [
    "<link rel=\"stylesheet\" href=\"../../Jupyter Style/style.css\">\n",
    "<p class=\"white-neon\">Debate the characteristics of plurality in contemporary Brazil"
   ]
  },
  {
   "attachments": {},
   "cell_type": "markdown",
   "metadata": {},
   "source": [
    "## <p style=\"border-bottom:solid #ffffff38 5px;\">"
   ]
  },
  {
   "attachments": {},
   "cell_type": "markdown",
   "metadata": {},
   "source": [
    "<link rel=\"stylesheet\" href=\"../../Jupyter Style/style.css\">\n",
    "\n",
    "## <h2 id=\"center\" class=\"white-neon\">Ethics and Politics</h2>"
   ]
  },
  {
   "attachments": {},
   "cell_type": "markdown",
   "metadata": {},
   "source": [
    "<link rel=\"stylesheet\" href=\"../../Jupyter Style/style.css\">\n",
    "\n",
    "### <h3 class=\"red-neon\">Why think about Ethics?"
   ]
  },
  {
   "attachments": {},
   "cell_type": "markdown",
   "metadata": {},
   "source": [
    "## <p style=\"border-bottom:solid #ffffff38 5px;\">"
   ]
  },
  {
   "attachments": {},
   "cell_type": "markdown",
   "metadata": {},
   "source": [
    "<link rel=\"stylesheet\" href=\"../../Jupyter Style/style.css\">\n",
    "\n",
    "## <h2 id=\"center\" class=\"white-neon\">Citizenship and Human Rights</h2>"
   ]
  },
  {
   "attachments": {},
   "cell_type": "markdown",
   "metadata": {},
   "source": [
    "## <p style=\"border-bottom:solid #ffffff38 5px;\">"
   ]
  },
  {
   "attachments": {},
   "cell_type": "markdown",
   "metadata": {},
   "source": [
    "<link rel=\"stylesheet\" href=\"../../Jupyter Style/style.css\">\n",
    "\n",
    "## <h2 id=\"center\" class=\"white-neon\">Ethical dilemmas of Brazilian society</h2>"
   ]
  },
  {
   "attachments": {},
   "cell_type": "markdown",
   "metadata": {},
   "source": [
    "## <p style=\"border-bottom:solid #ffffff38 5px;\">"
   ]
  },
  {
   "attachments": {},
   "cell_type": "markdown",
   "metadata": {},
   "source": [
    "<link rel=\"stylesheet\" href=\"../../Jupyter Style/style.css\">\n",
    "\n",
    "## <h2 id=\"center\" class=\"white-neon\">Plurality and diversity in the 21st century</h2>"
   ]
  }
 ],
 "metadata": {
  "kernelspec": {
   "display_name": "Python 3",
   "language": "python",
   "name": "python3"
  },
  "language_info": {
   "codemirror_mode": {
    "name": "ipython",
    "version": 3
   },
   "file_extension": ".py",
   "mimetype": "text/x-python",
   "name": "python",
   "nbconvert_exporter": "python",
   "pygments_lexer": "ipython3",
   "version": "3.11.3"
  },
  "orig_nbformat": 4
 },
 "nbformat": 4,
 "nbformat_minor": 2
}
