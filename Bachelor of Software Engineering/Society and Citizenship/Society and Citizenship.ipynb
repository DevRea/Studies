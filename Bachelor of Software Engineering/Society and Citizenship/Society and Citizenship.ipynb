{
 "cells": [
  {
   "attachments": {},
   "cell_type": "markdown",
   "metadata": {},
   "source": [
    "<link rel=\"stylesheet\" href=\"../../Jupyter Style/style.css\">\n",
    "\n",
    "# <h1 id=\"centro\" class=\"branco-neon\" style=\"font-weight:700\">Society and Citizenship</h1>"
   ]
  },
  {
   "attachments": {},
   "cell_type": "markdown",
   "metadata": {},
   "source": [
    "<div class=\"animated-border\">\n",
    "    <img src=\"../../Images/Mime and Dash Ilustrations/gif Mime and Dash.gif\" alt=\"descrição do gif\" width=\"900\" style=\"display: block; margin-left: auto; margin-right: auto; border-radius:20px\">\n",
    "</div>"
   ]
  },
  {
   "attachments": {},
   "cell_type": "markdown",
   "metadata": {},
   "source": [
    "## <p style=\"border-bottom:solid #ffffff38 5px;\">"
   ]
  },
  {
   "attachments": {},
   "cell_type": "markdown",
   "metadata": {},
   "source": [
    "<link rel=\"stylesheet\" href=\"../../Jupyter Style/style.css\">\n",
    "\n",
    "## <h2 id=\"centro\" class=\"branco-neon\">Ethics and Politics</h2>"
   ]
  },
  {
   "attachments": {},
   "cell_type": "markdown",
   "metadata": {},
   "source": [
    "## <p style=\"border-bottom:solid #ffffff38 5px;\">"
   ]
  }
 ],
 "metadata": {
  "kernelspec": {
   "display_name": "Python 3",
   "language": "python",
   "name": "python3"
  },
  "language_info": {
   "codemirror_mode": {
    "name": "ipython",
    "version": 3
   },
   "file_extension": ".py",
   "mimetype": "text/x-python",
   "name": "python",
   "nbconvert_exporter": "python",
   "pygments_lexer": "ipython3",
   "version": "3.11.3"
  },
  "orig_nbformat": 4
 },
 "nbformat": 4,
 "nbformat_minor": 2
}
